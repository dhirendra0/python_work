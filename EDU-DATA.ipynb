{
 "cells": [
  {
   "cell_type": "code",
   "execution_count": 1,
   "id": "fe7b8138",
   "metadata": {},
   "outputs": [],
   "source": [
    "import numpy as np\n",
    "import pandas as pd\n",
    "import matplotlib.pyplot as plt\n",
    "import seaborn as sns\n",
    "\n",
    "import warnings\n",
    "warnings.filterwarnings('ignore')"
   ]
  },
  {
   "cell_type": "code",
   "execution_count": 2,
   "id": "26567db1",
   "metadata": {},
   "outputs": [
    {
     "name": "stdout",
     "output_type": "stream",
     "text": [
      "<class 'pandas.core.frame.DataFrame'>\n",
      "RangeIndex: 480 entries, 0 to 479\n",
      "Data columns (total 17 columns):\n",
      " #   Column                    Non-Null Count  Dtype \n",
      "---  ------                    --------------  ----- \n",
      " 0   gender                    480 non-null    object\n",
      " 1   NationalITy               480 non-null    object\n",
      " 2   PlaceofBirth              480 non-null    object\n",
      " 3   StageID                   480 non-null    object\n",
      " 4   GradeID                   480 non-null    object\n",
      " 5   SectionID                 480 non-null    object\n",
      " 6   Topic                     480 non-null    object\n",
      " 7   Semester                  480 non-null    object\n",
      " 8   Relation                  480 non-null    object\n",
      " 9   raisedhands               480 non-null    int64 \n",
      " 10  VisITedResources          480 non-null    int64 \n",
      " 11  AnnouncementsView         480 non-null    int64 \n",
      " 12  Discussion                480 non-null    int64 \n",
      " 13  ParentAnsweringSurvey     480 non-null    object\n",
      " 14  ParentschoolSatisfaction  480 non-null    object\n",
      " 15  StudentAbsenceDays        480 non-null    object\n",
      " 16  Class                     480 non-null    object\n",
      "dtypes: int64(4), object(13)\n",
      "memory usage: 63.9+ KB\n"
     ]
    }
   ],
   "source": [
    "df=pd.read_csv('xAPI-Edu-Data.csv')\n",
    "df.info()"
   ]
  },
  {
   "cell_type": "code",
   "execution_count": 3,
   "id": "54067073",
   "metadata": {},
   "outputs": [
    {
     "data": {
      "text/plain": [
       "480"
      ]
     },
     "execution_count": 3,
     "metadata": {},
     "output_type": "execute_result"
    }
   ],
   "source": [
    "len(df)"
   ]
  },
  {
   "cell_type": "code",
   "execution_count": 4,
   "id": "7e683065",
   "metadata": {},
   "outputs": [
    {
     "data": {
      "text/plain": [
       "gender                      0.0\n",
       "NationalITy                 0.0\n",
       "PlaceofBirth                0.0\n",
       "StageID                     0.0\n",
       "GradeID                     0.0\n",
       "SectionID                   0.0\n",
       "Topic                       0.0\n",
       "Semester                    0.0\n",
       "Relation                    0.0\n",
       "raisedhands                 0.0\n",
       "VisITedResources            0.0\n",
       "AnnouncementsView           0.0\n",
       "Discussion                  0.0\n",
       "ParentAnsweringSurvey       0.0\n",
       "ParentschoolSatisfaction    0.0\n",
       "StudentAbsenceDays          0.0\n",
       "Class                       0.0\n",
       "dtype: float64"
      ]
     },
     "execution_count": 4,
     "metadata": {},
     "output_type": "execute_result"
    }
   ],
   "source": [
    "df.isna().sum()/len(df)*100"
   ]
  },
  {
   "cell_type": "code",
   "execution_count": 5,
   "id": "d1a74d8b",
   "metadata": {},
   "outputs": [
    {
     "data": {
      "text/plain": [
       "['gender',\n",
       " 'NationalITy',\n",
       " 'PlaceofBirth',\n",
       " 'StageID',\n",
       " 'GradeID',\n",
       " 'SectionID',\n",
       " 'Topic',\n",
       " 'Semester',\n",
       " 'Relation',\n",
       " 'ParentAnsweringSurvey',\n",
       " 'ParentschoolSatisfaction',\n",
       " 'StudentAbsenceDays',\n",
       " 'Class']"
      ]
     },
     "execution_count": 5,
     "metadata": {},
     "output_type": "execute_result"
    }
   ],
   "source": [
    "obj=list(df.select_dtypes(include='object').columns)\n",
    "obj"
   ]
  },
  {
   "cell_type": "code",
   "execution_count": 6,
   "id": "f14c0bbd",
   "metadata": {},
   "outputs": [
    {
     "data": {
      "text/plain": [
       "Index(['raisedhands', 'VisITedResources', 'AnnouncementsView', 'Discussion'], dtype='object')"
      ]
     },
     "execution_count": 6,
     "metadata": {},
     "output_type": "execute_result"
    }
   ],
   "source": [
    "df.select_dtypes(exclude='object').columns"
   ]
  },
  {
   "cell_type": "code",
   "execution_count": 7,
   "id": "9d605f23",
   "metadata": {},
   "outputs": [
    {
     "data": {
      "text/html": [
       "<div>\n",
       "<style scoped>\n",
       "    .dataframe tbody tr th:only-of-type {\n",
       "        vertical-align: middle;\n",
       "    }\n",
       "\n",
       "    .dataframe tbody tr th {\n",
       "        vertical-align: top;\n",
       "    }\n",
       "\n",
       "    .dataframe thead th {\n",
       "        text-align: right;\n",
       "    }\n",
       "</style>\n",
       "<table border=\"1\" class=\"dataframe\">\n",
       "  <thead>\n",
       "    <tr style=\"text-align: right;\">\n",
       "      <th></th>\n",
       "      <th>gender</th>\n",
       "      <th>NationalITy</th>\n",
       "      <th>PlaceofBirth</th>\n",
       "      <th>StageID</th>\n",
       "      <th>GradeID</th>\n",
       "      <th>SectionID</th>\n",
       "      <th>Topic</th>\n",
       "      <th>Semester</th>\n",
       "      <th>Relation</th>\n",
       "      <th>raisedhands</th>\n",
       "      <th>VisITedResources</th>\n",
       "      <th>AnnouncementsView</th>\n",
       "      <th>Discussion</th>\n",
       "      <th>ParentAnsweringSurvey</th>\n",
       "      <th>ParentschoolSatisfaction</th>\n",
       "      <th>StudentAbsenceDays</th>\n",
       "      <th>Class</th>\n",
       "    </tr>\n",
       "  </thead>\n",
       "  <tbody>\n",
       "    <tr>\n",
       "      <th>0</th>\n",
       "      <td>M</td>\n",
       "      <td>KW</td>\n",
       "      <td>KuwaIT</td>\n",
       "      <td>lowerlevel</td>\n",
       "      <td>G-04</td>\n",
       "      <td>A</td>\n",
       "      <td>IT</td>\n",
       "      <td>F</td>\n",
       "      <td>Father</td>\n",
       "      <td>15</td>\n",
       "      <td>16</td>\n",
       "      <td>2</td>\n",
       "      <td>20</td>\n",
       "      <td>Yes</td>\n",
       "      <td>Good</td>\n",
       "      <td>Under-7</td>\n",
       "      <td>M</td>\n",
       "    </tr>\n",
       "    <tr>\n",
       "      <th>1</th>\n",
       "      <td>M</td>\n",
       "      <td>KW</td>\n",
       "      <td>KuwaIT</td>\n",
       "      <td>lowerlevel</td>\n",
       "      <td>G-04</td>\n",
       "      <td>A</td>\n",
       "      <td>IT</td>\n",
       "      <td>F</td>\n",
       "      <td>Father</td>\n",
       "      <td>20</td>\n",
       "      <td>20</td>\n",
       "      <td>3</td>\n",
       "      <td>25</td>\n",
       "      <td>Yes</td>\n",
       "      <td>Good</td>\n",
       "      <td>Under-7</td>\n",
       "      <td>M</td>\n",
       "    </tr>\n",
       "    <tr>\n",
       "      <th>2</th>\n",
       "      <td>M</td>\n",
       "      <td>KW</td>\n",
       "      <td>KuwaIT</td>\n",
       "      <td>lowerlevel</td>\n",
       "      <td>G-04</td>\n",
       "      <td>A</td>\n",
       "      <td>IT</td>\n",
       "      <td>F</td>\n",
       "      <td>Father</td>\n",
       "      <td>10</td>\n",
       "      <td>7</td>\n",
       "      <td>0</td>\n",
       "      <td>30</td>\n",
       "      <td>No</td>\n",
       "      <td>Bad</td>\n",
       "      <td>Above-7</td>\n",
       "      <td>L</td>\n",
       "    </tr>\n",
       "    <tr>\n",
       "      <th>3</th>\n",
       "      <td>M</td>\n",
       "      <td>KW</td>\n",
       "      <td>KuwaIT</td>\n",
       "      <td>lowerlevel</td>\n",
       "      <td>G-04</td>\n",
       "      <td>A</td>\n",
       "      <td>IT</td>\n",
       "      <td>F</td>\n",
       "      <td>Father</td>\n",
       "      <td>30</td>\n",
       "      <td>25</td>\n",
       "      <td>5</td>\n",
       "      <td>35</td>\n",
       "      <td>No</td>\n",
       "      <td>Bad</td>\n",
       "      <td>Above-7</td>\n",
       "      <td>L</td>\n",
       "    </tr>\n",
       "    <tr>\n",
       "      <th>4</th>\n",
       "      <td>M</td>\n",
       "      <td>KW</td>\n",
       "      <td>KuwaIT</td>\n",
       "      <td>lowerlevel</td>\n",
       "      <td>G-04</td>\n",
       "      <td>A</td>\n",
       "      <td>IT</td>\n",
       "      <td>F</td>\n",
       "      <td>Father</td>\n",
       "      <td>40</td>\n",
       "      <td>50</td>\n",
       "      <td>12</td>\n",
       "      <td>50</td>\n",
       "      <td>No</td>\n",
       "      <td>Bad</td>\n",
       "      <td>Above-7</td>\n",
       "      <td>M</td>\n",
       "    </tr>\n",
       "  </tbody>\n",
       "</table>\n",
       "</div>"
      ],
      "text/plain": [
       "  gender NationalITy PlaceofBirth     StageID GradeID SectionID Topic  \\\n",
       "0      M          KW       KuwaIT  lowerlevel    G-04         A    IT   \n",
       "1      M          KW       KuwaIT  lowerlevel    G-04         A    IT   \n",
       "2      M          KW       KuwaIT  lowerlevel    G-04         A    IT   \n",
       "3      M          KW       KuwaIT  lowerlevel    G-04         A    IT   \n",
       "4      M          KW       KuwaIT  lowerlevel    G-04         A    IT   \n",
       "\n",
       "  Semester Relation  raisedhands  VisITedResources  AnnouncementsView  \\\n",
       "0        F   Father           15                16                  2   \n",
       "1        F   Father           20                20                  3   \n",
       "2        F   Father           10                 7                  0   \n",
       "3        F   Father           30                25                  5   \n",
       "4        F   Father           40                50                 12   \n",
       "\n",
       "   Discussion ParentAnsweringSurvey ParentschoolSatisfaction  \\\n",
       "0          20                   Yes                     Good   \n",
       "1          25                   Yes                     Good   \n",
       "2          30                    No                      Bad   \n",
       "3          35                    No                      Bad   \n",
       "4          50                    No                      Bad   \n",
       "\n",
       "  StudentAbsenceDays Class  \n",
       "0            Under-7     M  \n",
       "1            Under-7     M  \n",
       "2            Above-7     L  \n",
       "3            Above-7     L  \n",
       "4            Above-7     M  "
      ]
     },
     "execution_count": 7,
     "metadata": {},
     "output_type": "execute_result"
    }
   ],
   "source": [
    "df.head()"
   ]
  },
  {
   "cell_type": "code",
   "execution_count": 8,
   "id": "56ea9aa1",
   "metadata": {},
   "outputs": [
    {
     "ename": "ValueError",
     "evalue": "num must be 1 <= num <= 12, not 13",
     "output_type": "error",
     "traceback": [
      "\u001b[1;31m---------------------------------------------------------------------------\u001b[0m",
      "\u001b[1;31mValueError\u001b[0m                                Traceback (most recent call last)",
      "Input \u001b[1;32mIn [8]\u001b[0m, in \u001b[0;36m<cell line: 4>\u001b[1;34m()\u001b[0m\n\u001b[0;32m      2\u001b[0m plt\u001b[38;5;241m.\u001b[39msubplots_adjust(wspace\u001b[38;5;241m=\u001b[39m\u001b[38;5;241m0.75\u001b[39m,hspace\u001b[38;5;241m=\u001b[39m\u001b[38;5;241m0.75\u001b[39m)\n\u001b[0;32m      4\u001b[0m \u001b[38;5;28;01mfor\u001b[39;00m i \u001b[38;5;129;01min\u001b[39;00m \u001b[38;5;28mrange\u001b[39m(\u001b[38;5;28mlen\u001b[39m(obj)):\n\u001b[1;32m----> 5\u001b[0m     \u001b[43mplt\u001b[49m\u001b[38;5;241;43m.\u001b[39;49m\u001b[43msubplot\u001b[49m\u001b[43m(\u001b[49m\u001b[38;5;241;43m3\u001b[39;49m\u001b[43m,\u001b[49m\u001b[38;5;241;43m4\u001b[39;49m\u001b[43m,\u001b[49m\u001b[43mi\u001b[49m\u001b[38;5;241;43m+\u001b[39;49m\u001b[38;5;241;43m1\u001b[39;49m\u001b[43m)\u001b[49m\n\u001b[0;32m      6\u001b[0m     plt\u001b[38;5;241m.\u001b[39mxticks(rotation\u001b[38;5;241m=\u001b[39m\u001b[38;5;241m90\u001b[39m)\n\u001b[0;32m      7\u001b[0m     sns\u001b[38;5;241m.\u001b[39mcountplot(df[obj[i]])\n",
      "File \u001b[1;32m~\\anaconda3\\lib\\site-packages\\matplotlib\\pyplot.py:1268\u001b[0m, in \u001b[0;36msubplot\u001b[1;34m(*args, **kwargs)\u001b[0m\n\u001b[0;32m   1265\u001b[0m fig \u001b[38;5;241m=\u001b[39m gcf()\n\u001b[0;32m   1267\u001b[0m \u001b[38;5;66;03m# First, search for an existing subplot with a matching spec.\u001b[39;00m\n\u001b[1;32m-> 1268\u001b[0m key \u001b[38;5;241m=\u001b[39m \u001b[43mSubplotSpec\u001b[49m\u001b[38;5;241;43m.\u001b[39;49m\u001b[43m_from_subplot_args\u001b[49m\u001b[43m(\u001b[49m\u001b[43mfig\u001b[49m\u001b[43m,\u001b[49m\u001b[43m \u001b[49m\u001b[43margs\u001b[49m\u001b[43m)\u001b[49m\n\u001b[0;32m   1270\u001b[0m \u001b[38;5;28;01mfor\u001b[39;00m ax \u001b[38;5;129;01min\u001b[39;00m fig\u001b[38;5;241m.\u001b[39maxes:\n\u001b[0;32m   1271\u001b[0m     \u001b[38;5;66;03m# if we found an axes at the position sort out if we can re-use it\u001b[39;00m\n\u001b[0;32m   1272\u001b[0m     \u001b[38;5;28;01mif\u001b[39;00m \u001b[38;5;28mhasattr\u001b[39m(ax, \u001b[38;5;124m'\u001b[39m\u001b[38;5;124mget_subplotspec\u001b[39m\u001b[38;5;124m'\u001b[39m) \u001b[38;5;129;01mand\u001b[39;00m ax\u001b[38;5;241m.\u001b[39mget_subplotspec() \u001b[38;5;241m==\u001b[39m key:\n\u001b[0;32m   1273\u001b[0m         \u001b[38;5;66;03m# if the user passed no kwargs, re-use\u001b[39;00m\n",
      "File \u001b[1;32m~\\anaconda3\\lib\\site-packages\\matplotlib\\gridspec.py:608\u001b[0m, in \u001b[0;36mSubplotSpec._from_subplot_args\u001b[1;34m(figure, args)\u001b[0m\n\u001b[0;32m    606\u001b[0m \u001b[38;5;28;01melse\u001b[39;00m:\n\u001b[0;32m    607\u001b[0m     \u001b[38;5;28;01mif\u001b[39;00m \u001b[38;5;129;01mnot\u001b[39;00m \u001b[38;5;28misinstance\u001b[39m(num, Integral) \u001b[38;5;129;01mor\u001b[39;00m num \u001b[38;5;241m<\u001b[39m \u001b[38;5;241m1\u001b[39m \u001b[38;5;129;01mor\u001b[39;00m num \u001b[38;5;241m>\u001b[39m rows\u001b[38;5;241m*\u001b[39mcols:\n\u001b[1;32m--> 608\u001b[0m         \u001b[38;5;28;01mraise\u001b[39;00m \u001b[38;5;167;01mValueError\u001b[39;00m(\n\u001b[0;32m    609\u001b[0m             \u001b[38;5;124mf\u001b[39m\u001b[38;5;124m\"\u001b[39m\u001b[38;5;124mnum must be 1 <= num <= \u001b[39m\u001b[38;5;132;01m{\u001b[39;00mrows\u001b[38;5;241m*\u001b[39mcols\u001b[38;5;132;01m}\u001b[39;00m\u001b[38;5;124m, not \u001b[39m\u001b[38;5;132;01m{\u001b[39;00mnum\u001b[38;5;132;01m!r}\u001b[39;00m\u001b[38;5;124m\"\u001b[39m)\n\u001b[0;32m    610\u001b[0m     i \u001b[38;5;241m=\u001b[39m j \u001b[38;5;241m=\u001b[39m num\n\u001b[0;32m    611\u001b[0m \u001b[38;5;28;01mreturn\u001b[39;00m gs[i\u001b[38;5;241m-\u001b[39m\u001b[38;5;241m1\u001b[39m:j]\n",
      "\u001b[1;31mValueError\u001b[0m: num must be 1 <= num <= 12, not 13"
     ]
    },
    {
     "data": {
      "image/png": "[encoded data removed]",
      "text/plain": [
       "<Figure size 864x864 with 12 Axes>"
      ]
     },
     "metadata": {
      "needs_background": "light"
     },
     "output_type": "display_data"
    }
   ],
   "source": [
    "plt.figure(figsize=(12,12))\n",
    "plt.subplots_adjust(wspace=0.75,hspace=0.75)\n",
    "\n",
    "for i in range(len(obj)):\n",
    "    plt.subplot(3,4,i+1)\n",
    "    plt.xticks(rotation=90)\n",
    "    sns.countplot(df[obj[i]])"
   ]
  },
  {
   "cell_type": "code",
   "execution_count": 9,
   "id": "d96b5d5a",
   "metadata": {},
   "outputs": [
    {
     "data": {
      "text/plain": [
       "IT           95\n",
       "French       65\n",
       "Arabic       59\n",
       "Science      51\n",
       "English      45\n",
       "Biology      30\n",
       "Spanish      25\n",
       "Chemistry    24\n",
       "Geology      24\n",
       "Quran        22\n",
       "Math         21\n",
       "History      19\n",
       "Name: Topic, dtype: int64"
      ]
     },
     "execution_count": 9,
     "metadata": {},
     "output_type": "execute_result"
    }
   ],
   "source": [
    "df['Topic'].value_counts()"
   ]
  },
  {
   "cell_type": "code",
   "execution_count": 10,
   "id": "20cc4288",
   "metadata": {},
   "outputs": [
    {
     "name": "stdout",
     "output_type": "stream",
     "text": [
      "       raisehands  Resources  Discussion  Announcements\n",
      "Class                                                  \n",
      "H       70.288732  78.746479   53.661972      53.380282\n",
      "L       16.889764  18.322835   30.834646      15.574803\n",
      "M       48.938389  60.635071   43.791469      40.962085\n"
     ]
    }
   ],
   "source": [
    "x=df.groupby(by='Class').agg(raisehands=('raisedhands','mean'),\n",
    "                            Resources=('VisITedResources','mean'),\n",
    "                            Discussion=('Discussion','mean'),\n",
    "                            Announcements=('AnnouncementsView','mean'))\n",
    "print(x)"
   ]
  },
  {
   "cell_type": "code",
   "execution_count": 11,
   "id": "d1096d6f",
   "metadata": {},
   "outputs": [
    {
     "data": {
      "text/plain": [
       "Text(0.5, 1.0, 'Class versus mean raised hands')"
      ]
     },
     "execution_count": 11,
     "metadata": {},
     "output_type": "execute_result"
    },
    {
     "data": {
      "image/png": "[encoded data removed]",
      "text/plain": [
       "<Figure size 360x360 with 1 Axes>"
      ]
     },
     "metadata": {},
     "output_type": "display_data"
    }
   ],
   "source": [
    "plt.figure(figsize=(5,5))\n",
    "plt.pie(x=x['raisehands'].values,labels=x.index,autopct='%.2f')\n",
    "plt.title('Class versus mean raised hands')"
   ]
  },
  {
   "cell_type": "code",
   "execution_count": 12,
   "id": "8f77823d",
   "metadata": {},
   "outputs": [
    {
     "data": {
      "text/plain": [
       "<AxesSubplot:xlabel='Class', ylabel='Discussion'>"
      ]
     },
     "execution_count": 12,
     "metadata": {},
     "output_type": "execute_result"
    },
    {
     "data": {
      "image/png": "[encoded data removed]",
      "text/plain": [
       "<Figure size 504x504 with 1 Axes>"
      ]
     },
     "metadata": {
      "needs_background": "light"
     },
     "output_type": "display_data"
    }
   ],
   "source": [
    "plt.figure(figsize=(7,7))\n",
    "\n",
    "sns.swarmplot(x=df['Class'],y=df['Discussion'],hue=df['StudentAbsenceDays'])"
   ]
  },
  {
   "cell_type": "code",
   "execution_count": 13,
   "id": "64072236",
   "metadata": {},
   "outputs": [
    {
     "data": {
      "text/plain": [
       "<AxesSubplot:xlabel='Class', ylabel='VisITedResources'>"
      ]
     },
     "execution_count": 13,
     "metadata": {},
     "output_type": "execute_result"
    },
    {
     "data": {
      "image/png": "[encoded data removed]",
      "text/plain": [
       "<Figure size 504x504 with 1 Axes>"
      ]
     },
     "metadata": {
      "needs_background": "light"
     },
     "output_type": "display_data"
    }
   ],
   "source": [
    "plt.figure(figsize=(7,7))\n",
    "\n",
    "sns.swarmplot(x=df['Class'],y=df['VisITedResources'],hue=df['ParentschoolSatisfaction'])"
   ]
  },
  {
   "cell_type": "code",
   "execution_count": 14,
   "id": "88272bef",
   "metadata": {},
   "outputs": [
    {
     "name": "stdout",
     "output_type": "stream",
     "text": [
      "    gender  NationalITy PlaceofBirth       StageID GradeID SectionID Topic  \\\n",
      "19       M           KW       KuwaIT  MiddleSchool    G-07         B    IT   \n",
      "62       M     venzuela     venzuela    HighSchool    G-10         A    IT   \n",
      "68       F          USA          USA    HighSchool    G-12         A    IT   \n",
      "84       M           KW       KuwaIT    lowerlevel    G-02         B    IT   \n",
      "86       M  SaudiArabia  SaudiArabia    lowerlevel    G-02         B    IT   \n",
      "91       M           KW       KuwaIT    lowerlevel    G-02         B    IT   \n",
      "92       F           KW       KuwaIT    lowerlevel    G-02         B    IT   \n",
      "93       M          USA          USA    lowerlevel    G-02         B    IT   \n",
      "95       F           KW       KuwaIT    lowerlevel    G-02         B    IT   \n",
      "96       F           KW       KuwaIT    lowerlevel    G-02         C    IT   \n",
      "101      F           KW       KuwaIT    lowerlevel    G-02         B    IT   \n",
      "107      M           KW       KuwaIT    lowerlevel    G-02         B    IT   \n",
      "110      F       Jordan       Jordan    lowerlevel    G-02         B    IT   \n",
      "117      F           KW       KuwaIT    lowerlevel    G-02         C    IT   \n",
      "244      M           KW       KuwaIT  MiddleSchool    G-07         B    IT   \n",
      "\n",
      "    Semester Relation  raisedhands  VisITedResources  AnnouncementsView  \\\n",
      "19         F      Mum           70                50                 40   \n",
      "62         F      Mum           80                90                 70   \n",
      "68         F      Mum           70                69                 35   \n",
      "84         F   Father           50                70                 50   \n",
      "86         F   Father           70                12                 40   \n",
      "91         F   Father           80                90                 55   \n",
      "92         F   Father           50                70                 19   \n",
      "93         F   Father           55                89                 40   \n",
      "95         F   Father          100                80                  2   \n",
      "96         F   Father           14                60                 11   \n",
      "101        F      Mum           70                92                 50   \n",
      "107        F   Father           70                90                 41   \n",
      "110        F      Mum           70                88                 55   \n",
      "117        F      Mum           25                29                 40   \n",
      "244        S      Mum           70                92                 83   \n",
      "\n",
      "     Discussion ParentAnsweringSurvey ParentschoolSatisfaction  \\\n",
      "19           99                   Yes                     Good   \n",
      "62           80                   Yes                     Good   \n",
      "68           30                   Yes                     Good   \n",
      "84           10                   Yes                     Good   \n",
      "86           50                   Yes                     Good   \n",
      "91           19                   Yes                     Good   \n",
      "92           15                   Yes                     Good   \n",
      "93           40                   Yes                     Good   \n",
      "95           70                    No                      Bad   \n",
      "96           75                   Yes                     Good   \n",
      "101           7                   Yes                     Good   \n",
      "107          33                   Yes                      Bad   \n",
      "110          40                   Yes                     Good   \n",
      "117          17                    No                     Good   \n",
      "244          85                   Yes                      Bad   \n",
      "\n",
      "    StudentAbsenceDays Class  \n",
      "19             Under-7     H  \n",
      "62             Under-7     H  \n",
      "68             Under-7     H  \n",
      "84             Above-7     H  \n",
      "86             Under-7     H  \n",
      "91             Under-7     H  \n",
      "92             Under-7     H  \n",
      "93             Under-7     H  \n",
      "95             Under-7     H  \n",
      "96             Under-7     H  \n",
      "101            Under-7     H  \n",
      "107            Under-7     H  \n",
      "110            Under-7     H  \n",
      "117            Under-7     H  \n",
      "244            Under-7     H  \n",
      "    gender  NationalITy PlaceofBirth       StageID GradeID SectionID Topic  \\\n",
      "0        M           KW       KuwaIT    lowerlevel    G-04         A    IT   \n",
      "1        M           KW       KuwaIT    lowerlevel    G-04         A    IT   \n",
      "4        M           KW       KuwaIT    lowerlevel    G-04         A    IT   \n",
      "5        F           KW       KuwaIT    lowerlevel    G-04         A    IT   \n",
      "9        F           KW       KuwaIT  MiddleSchool    G-07         B    IT   \n",
      "15       F           KW       KuwaIT  MiddleSchool    G-06         A    IT   \n",
      "16       M           KW       KuwaIT  MiddleSchool    G-07         B    IT   \n",
      "18       F           KW       KuwaIT  MiddleSchool    G-07         A    IT   \n",
      "20       F           KW       KuwaIT  MiddleSchool    G-07         A    IT   \n",
      "21       F           KW       KuwaIT  MiddleSchool    G-07         B    IT   \n",
      "22       M           KW       KuwaIT  MiddleSchool    G-07         A    IT   \n",
      "26       M           KW       KuwaIT  MiddleSchool    G-07         B    IT   \n",
      "37       F        Egypt        Egypt  MiddleSchool    G-07         A    IT   \n",
      "41       M           KW       KuwaIT  MiddleSchool    G-07         A    IT   \n",
      "43       F           KW       KuwaIT    HighSchool    G-09         A    IT   \n",
      "44       F           KW       KuwaIT    HighSchool    G-09         A    IT   \n",
      "61       M           KW       KuwaIT    HighSchool    G-10         A    IT   \n",
      "63       M           KW       KuwaIT    HighSchool    G-10         A    IT   \n",
      "69       M       Jordan       Jordan  MiddleSchool    G-07         A    IT   \n",
      "71       M           KW       KuwaIT  MiddleSchool    G-07         A    IT   \n",
      "76       M         Iran         Iran    HighSchool    G-09         A    IT   \n",
      "77       M           KW       KuwaIT    HighSchool    G-09         A    IT   \n",
      "83       M           KW       KuwaIT    lowerlevel    G-02         B    IT   \n",
      "97       F           KW       KuwaIT    lowerlevel    G-02         B    IT   \n",
      "98       F           KW       KuwaIT    lowerlevel    G-02         C    IT   \n",
      "99       M           KW       KuwaIT    lowerlevel    G-02         B    IT   \n",
      "100      M           KW       KuwaIT    lowerlevel    G-02         B    IT   \n",
      "104      M           KW       KuwaIT    lowerlevel    G-02         B    IT   \n",
      "106      F           KW       KuwaIT    lowerlevel    G-02         B    IT   \n",
      "108      M  SaudiArabia  SaudiArabia    lowerlevel    G-02         B    IT   \n",
      "109      M           KW       KuwaIT    lowerlevel    G-02         B    IT   \n",
      "111      M           KW       KuwaIT    lowerlevel    G-02         C    IT   \n",
      "116      F           KW       KuwaIT    lowerlevel    G-02         C    IT   \n",
      "118      F           KW       KuwaIT    lowerlevel    G-02         C    IT   \n",
      "119      M           KW       KuwaIT    lowerlevel    G-02         C    IT   \n",
      "120      M           KW       KuwaIT    lowerlevel    G-02         C    IT   \n",
      "122      F           KW       KuwaIT    lowerlevel    G-02         B    IT   \n",
      "123      F      lebanon      lebanon    lowerlevel    G-02         B    IT   \n",
      "126      F         Iran         Iran    lowerlevel    G-02         C    IT   \n",
      "131      M       Jordan       Jordan    lowerlevel    G-02         C    IT   \n",
      "245      F           KW       KuwaIT  MiddleSchool    G-06         A    IT   \n",
      "249      M           KW       KuwaIT    lowerlevel    G-04         A    IT   \n",
      "\n",
      "    Semester Relation  raisedhands  VisITedResources  AnnouncementsView  \\\n",
      "0          F   Father           15                16                  2   \n",
      "1          F   Father           20                20                  3   \n",
      "4          F   Father           40                50                 12   \n",
      "5          F   Father           42                30                 13   \n",
      "9          F   Father           70                80                 25   \n",
      "15         F   Father           30                40                 22   \n",
      "16         F   Father           36                30                 20   \n",
      "18         F      Mum           69                15                 36   \n",
      "20         F   Father           60                60                 33   \n",
      "21         F   Father           10                12                  4   \n",
      "22         F   Father           15                21                  2   \n",
      "26         F   Father           19                19                 25   \n",
      "37         F   Father           45                54                 26   \n",
      "41         F   Father           19                20                 16   \n",
      "43         F   Father           30                35                 28   \n",
      "44         F   Father           33                33                 30   \n",
      "61         F   Father           50                70                 32   \n",
      "63         F   Father           17                13                 16   \n",
      "69         F   Father           39                40                 11   \n",
      "71         F   Father           29                22                  9   \n",
      "76         F      Mum           15                70                 37   \n",
      "77         F   Father           20                80                 33   \n",
      "83         F   Father            7                 4                 10   \n",
      "97         F   Father            6                 2                 38   \n",
      "98         F   Father           10                 3                  0   \n",
      "99         F   Father           50                 7                  9   \n",
      "100        F   Father           50                90                 40   \n",
      "104        F   Father            0                12                  3   \n",
      "106        F   Father           12                26                  7   \n",
      "108        F   Father            7                12                  5   \n",
      "109        F   Father           90                70                 30   \n",
      "111        F   Father           77                80                 51   \n",
      "116        F      Mum           77                80                 12   \n",
      "118        F      Mum           24                35                 23   \n",
      "119        F   Father           60                60                  3   \n",
      "120        F      Mum           21                12                  0   \n",
      "122        F   Father           66                90                 55   \n",
      "123        F   Father           70                98                  7   \n",
      "126        F   Father            2                 9                  7   \n",
      "131        F   Father           80                42                 20   \n",
      "245        S   Father           50                40                 52   \n",
      "249        S   Father           65                86                 62   \n",
      "\n",
      "     Discussion ParentAnsweringSurvey ParentschoolSatisfaction  \\\n",
      "0            20                   Yes                     Good   \n",
      "1            25                   Yes                     Good   \n",
      "4            50                    No                      Bad   \n",
      "5            70                   Yes                      Bad   \n",
      "9            70                   Yes                     Good   \n",
      "15           66                   Yes                     Good   \n",
      "16           80                    No                      Bad   \n",
      "18           96                   Yes                     Good   \n",
      "20           90                    No                      Bad   \n",
      "21           80                    No                      Bad   \n",
      "22           90                    No                      Bad   \n",
      "26           40                   Yes                      Bad   \n",
      "37           90                   Yes                     Good   \n",
      "41           50                    No                     Good   \n",
      "43           90                   Yes                     Good   \n",
      "44           90                    No                      Bad   \n",
      "61           40                   Yes                     Good   \n",
      "63           12                   Yes                      Bad   \n",
      "69           33                    No                      Bad   \n",
      "71           20                   Yes                     Good   \n",
      "76           44                   Yes                     Good   \n",
      "77           33                   Yes                     Good   \n",
      "83           50                    No                     Good   \n",
      "97           12                    No                      Bad   \n",
      "98           30                    No                      Bad   \n",
      "99           50                   Yes                      Bad   \n",
      "100          90                   Yes                      Bad   \n",
      "104           3                   Yes                     Good   \n",
      "106          40                   Yes                     Good   \n",
      "108           3                    No                      Bad   \n",
      "109          14                    No                      Bad   \n",
      "111          80                    No                     Good   \n",
      "116          19                   Yes                     Good   \n",
      "118          22                   Yes                     Good   \n",
      "119          60                    No                      Bad   \n",
      "120          50                   Yes                     Good   \n",
      "122          12                   Yes                     Good   \n",
      "123           5                   Yes                     Good   \n",
      "126          55                   Yes                     Good   \n",
      "131          50                   Yes                     Good   \n",
      "245          66                   Yes                      Bad   \n",
      "249          40                    No                     Good   \n",
      "\n",
      "    StudentAbsenceDays Class  \n",
      "0              Under-7     M  \n",
      "1              Under-7     M  \n",
      "4              Above-7     M  \n",
      "5              Above-7     M  \n",
      "9              Under-7     M  \n",
      "15             Under-7     M  \n",
      "16             Above-7     M  \n",
      "18             Under-7     M  \n",
      "20             Above-7     M  \n",
      "21             Under-7     M  \n",
      "22             Under-7     M  \n",
      "26             Under-7     M  \n",
      "37             Under-7     M  \n",
      "41             Under-7     M  \n",
      "43             Under-7     M  \n",
      "44             Under-7     M  \n",
      "61             Under-7     M  \n",
      "63             Under-7     M  \n",
      "69             Under-7     M  \n",
      "71             Under-7     M  \n",
      "76             Under-7     M  \n",
      "77             Under-7     M  \n",
      "83             Above-7     M  \n",
      "97             Under-7     M  \n",
      "98             Under-7     M  \n",
      "99             Above-7     M  \n",
      "100            Under-7     M  \n",
      "104            Above-7     M  \n",
      "106            Under-7     M  \n",
      "108            Above-7     M  \n",
      "109            Under-7     M  \n",
      "111            Under-7     M  \n",
      "116            Above-7     M  \n",
      "118            Above-7     M  \n",
      "119            Under-7     M  \n",
      "120            Under-7     M  \n",
      "122            Above-7     M  \n",
      "123            Under-7     M  \n",
      "126            Under-7     M  \n",
      "131            Under-7     M  \n",
      "245            Under-7     M  \n",
      "249            Above-7     M  \n",
      "    gender NationalITy PlaceofBirth       StageID GradeID SectionID Topic  \\\n",
      "0        M          KW       KuwaIT    lowerlevel    G-04         A    IT   \n",
      "1        M          KW       KuwaIT    lowerlevel    G-04         A    IT   \n",
      "2        M          KW       KuwaIT    lowerlevel    G-04         A    IT   \n",
      "3        M          KW       KuwaIT    lowerlevel    G-04         A    IT   \n",
      "4        M          KW       KuwaIT    lowerlevel    G-04         A    IT   \n",
      "..     ...         ...          ...           ...     ...       ...   ...   \n",
      "132      M          KW       KuwaIT    lowerlevel    G-02         C    IT   \n",
      "133      M          KW       KuwaIT    lowerlevel    G-02         A    IT   \n",
      "244      M          KW       KuwaIT  MiddleSchool    G-07         B    IT   \n",
      "245      F          KW       KuwaIT  MiddleSchool    G-06         A    IT   \n",
      "249      M          KW       KuwaIT    lowerlevel    G-04         A    IT   \n",
      "\n",
      "    Semester Relation  raisedhands  VisITedResources  AnnouncementsView  \\\n",
      "0          F   Father           15                16                  2   \n",
      "1          F   Father           20                20                  3   \n",
      "2          F   Father           10                 7                  0   \n",
      "3          F   Father           30                25                  5   \n",
      "4          F   Father           40                50                 12   \n",
      "..       ...      ...          ...               ...                ...   \n",
      "132        S   Father            0                 3                 10   \n",
      "133        S   Father           12                60                  0   \n",
      "244        S      Mum           70                92                 83   \n",
      "245        S   Father           50                40                 52   \n",
      "249        S   Father           65                86                 62   \n",
      "\n",
      "     Discussion ParentAnsweringSurvey ParentschoolSatisfaction  \\\n",
      "0            20                   Yes                     Good   \n",
      "1            25                   Yes                     Good   \n",
      "2            30                    No                      Bad   \n",
      "3            35                    No                      Bad   \n",
      "4            50                    No                      Bad   \n",
      "..          ...                   ...                      ...   \n",
      "132           3                    No                      Bad   \n",
      "133          70                   Yes                     Good   \n",
      "244          85                   Yes                      Bad   \n",
      "245          66                   Yes                      Bad   \n",
      "249          40                    No                     Good   \n",
      "\n",
      "    StudentAbsenceDays Class  \n",
      "0              Under-7     M  \n",
      "1              Under-7     M  \n",
      "2              Above-7     L  \n",
      "3              Above-7     L  \n",
      "4              Above-7     M  \n",
      "..                 ...   ...  \n",
      "132            Above-7     L  \n",
      "133            Above-7     L  \n",
      "244            Under-7     H  \n",
      "245            Under-7     M  \n",
      "249            Above-7     M  \n",
      "\n",
      "[95 rows x 17 columns]\n"
     ]
    }
   ],
   "source": [
    "print(df[(df['Topic']=='IT') & (df['Class']=='H')])\n",
    "print(df[(df['Topic']=='IT') & (df['Class']=='M')])\n",
    "print(df[df['Topic']=='IT'])"
   ]
  },
  {
   "cell_type": "code",
   "execution_count": 15,
   "id": "40ee974a",
   "metadata": {},
   "outputs": [
    {
     "name": "stdout",
     "output_type": "stream",
     "text": [
      "15 42 95\n",
      "60.0\n"
     ]
    }
   ],
   "source": [
    "a=len(df[(df['Topic']=='IT') & (df['Class']=='H')])\n",
    "\n",
    "b=len(df[(df['Topic']=='IT') & (df['Class']=='M')])\n",
    "\n",
    "c=len(df[df['Topic']=='IT'])\n",
    "\n",
    "print(a,b,c)\n",
    "\n",
    "print((a+b)/c*100)"
   ]
  },
  {
   "cell_type": "code",
   "execution_count": 16,
   "id": "7b692e34",
   "metadata": {},
   "outputs": [],
   "source": [
    "df=pd.read_csv('xAPI-Edu-Data.csv')"
   ]
  },
  {
   "cell_type": "code",
   "execution_count": 17,
   "id": "2c463869",
   "metadata": {},
   "outputs": [
    {
     "name": "stdout",
     "output_type": "stream",
     "text": [
      "['IT', 'French', 'Arabic', 'Science', 'English', 'Biology', 'Spanish', 'Chemistry', 'Geology', 'Quran', 'Math', 'History']\n",
      "[60.0, 75.38461538461539, 71.1864406779661, 80.3921568627451, 77.77777777777779, 86.66666666666667, 68.0, 66.66666666666666, 100.0, 72.72727272727273, 66.66666666666666, 84.21052631578947]\n"
     ]
    },
    {
     "data": {
      "image/png": "[encoded data removed]",
      "text/plain": [
       "<Figure size 432x288 with 1 Axes>"
      ]
     },
     "metadata": {
      "needs_background": "light"
     },
     "output_type": "display_data"
    }
   ],
   "source": [
    "d=[]\n",
    "e=[]\n",
    "for i in df['Topic'].value_counts().index:\n",
    "    a=len(df[(df['Topic']==i) & (df['Class']=='H')])\n",
    "\n",
    "    b=len(df[(df['Topic']==i) & (df['Class']=='M')])\n",
    "\n",
    "    c=len(df[df['Topic']==i])\n",
    "\n",
    "    d. append(i)\n",
    "    \n",
    "    e.append((a+b)/c*100)\n",
    "    \n",
    "print(d)\n",
    "print(e)\n",
    "\n",
    "sns.barplot(x=d,y=e)\n",
    "\n",
    "plt.xticks(rotation=90)\n",
    "\n",
    "plt.show()"
   ]
  },
  {
   "cell_type": "code",
   "execution_count": 18,
   "id": "a91045cf",
   "metadata": {},
   "outputs": [
    {
     "name": "stdout",
     "output_type": "stream",
     "text": [
      "['IT', 'French', 'Arabic', 'Science', 'English', 'Biology', 'Spanish', 'Chemistry', 'Geology', 'Quran', 'Math', 'History']\n",
      "[15.789473684210526, 30.76923076923077, 32.20338983050847, 31.372549019607842, 37.77777777777778, 53.333333333333336, 20.0, 41.66666666666667, 25.0, 36.36363636363637, 28.57142857142857, 21.052631578947366]\n"
     ]
    },
    {
     "data": {
      "image/png": "[encoded data removed]",
      "text/plain": [
       "<Figure size 432x288 with 1 Axes>"
      ]
     },
     "metadata": {
      "needs_background": "light"
     },
     "output_type": "display_data"
    }
   ],
   "source": [
    "d=[]\n",
    "e=[]\n",
    "for i in df['Topic'].value_counts().index:\n",
    "    a=len(df[(df['Topic']==i) & (df['Class']=='H')])\n",
    "\n",
    "    # b=len(df[(df['Topic']==i) & (df['Class']=='M')])\n",
    "\n",
    "    c=len(df[df['Topic']==i])\n",
    "\n",
    "    d. append(i)\n",
    "    \n",
    "    e.append(a/c*100)\n",
    "    \n",
    "print(d)\n",
    "print(e)\n",
    "\n",
    "sns.barplot(x=d,y=e)\n",
    "\n",
    "plt.xticks(rotation=90)\n",
    "\n",
    "plt.show()"
   ]
  },
  {
   "cell_type": "code",
   "execution_count": 19,
   "id": "09984402",
   "metadata": {},
   "outputs": [
    {
     "name": "stdout",
     "output_type": "stream",
     "text": [
      "118 292\n",
      "40.41095890410959\n"
     ]
    }
   ],
   "source": [
    "a=len(df[(df['ParentschoolSatisfaction']=='Good') & (df['Class']=='H')])\n",
    "\n",
    "c=len(df[df['ParentschoolSatisfaction']=='Good'])\n",
    "\n",
    "print(a,c)\n",
    "\n",
    "print(a/c*100)"
   ]
  },
  {
   "cell_type": "code",
   "execution_count": 20,
   "id": "8460f076",
   "metadata": {},
   "outputs": [
    {
     "name": "stdout",
     "output_type": "stream",
     "text": [
      "['Good', 'Bad']\n",
      "[40.41095890410959, 12.76595744680851]\n"
     ]
    },
    {
     "data": {
      "image/png": "[encoded data removed]",
      "text/plain": [
       "<Figure size 432x288 with 1 Axes>"
      ]
     },
     "metadata": {
      "needs_background": "light"
     },
     "output_type": "display_data"
    }
   ],
   "source": [
    "d=[]\n",
    "e=[]\n",
    "for i in df['ParentschoolSatisfaction'].value_counts().index:\n",
    "    a=len(df[(df['ParentschoolSatisfaction']==i) & (df['Class']=='H')])\n",
    "\n",
    "    # b=len(df[(df['Topic']==i) & (df['Class']=='M')])\n",
    "\n",
    "    c=len(df[df['ParentschoolSatisfaction']==i])\n",
    "\n",
    "    d. append(i)\n",
    "    \n",
    "    e.append(a/c*100)\n",
    "    \n",
    "print(d)\n",
    "print(e)\n",
    "\n",
    "sns.barplot(x=d,y=e)\n",
    "\n",
    "plt.xticks(rotation=90)\n",
    "\n",
    "plt.show()"
   ]
  },
  {
   "cell_type": "code",
   "execution_count": 21,
   "id": "a91398ba",
   "metadata": {},
   "outputs": [
    {
     "name": "stdout",
     "output_type": "stream",
     "text": [
      "['Under-7', 'Above-7']\n",
      "[47.75086505190311, 2.094240837696335]\n"
     ]
    },
    {
     "data": {
      "image/png": "[encoded data removed]",
      "text/plain": [
       "<Figure size 432x288 with 1 Axes>"
      ]
     },
     "metadata": {
      "needs_background": "light"
     },
     "output_type": "display_data"
    }
   ],
   "source": [
    "d=[]\n",
    "e=[]\n",
    "for i in df['StudentAbsenceDays'].value_counts().index:\n",
    "    a=len(df[(df['StudentAbsenceDays']==i) & (df['Class']=='H')])\n",
    "\n",
    "    # b=len(df[(df['Topic']==i) & (df['Class']=='M')])\n",
    "\n",
    "    c=len(df[df['StudentAbsenceDays']==i])\n",
    "\n",
    "    d. append(i)\n",
    "    \n",
    "    e.append(a/c*100)\n",
    "    \n",
    "print(d)\n",
    "print(e)\n",
    "\n",
    "sns.barplot(x=d,y=e)\n",
    "\n",
    "plt.xticks(rotation=90)\n",
    "\n",
    "plt.show()"
   ]
  },
  {
   "cell_type": "code",
   "execution_count": 22,
   "id": "db5050cc",
   "metadata": {},
   "outputs": [
    {
     "data": {
      "text/html": [
       "<div>\n",
       "<style scoped>\n",
       "    .dataframe tbody tr th:only-of-type {\n",
       "        vertical-align: middle;\n",
       "    }\n",
       "\n",
       "    .dataframe tbody tr th {\n",
       "        vertical-align: top;\n",
       "    }\n",
       "\n",
       "    .dataframe thead th {\n",
       "        text-align: right;\n",
       "    }\n",
       "</style>\n",
       "<table border=\"1\" class=\"dataframe\">\n",
       "  <thead>\n",
       "    <tr style=\"text-align: right;\">\n",
       "      <th></th>\n",
       "      <th>gender</th>\n",
       "      <th>NationalITy</th>\n",
       "      <th>PlaceofBirth</th>\n",
       "      <th>StageID</th>\n",
       "      <th>GradeID</th>\n",
       "      <th>SectionID</th>\n",
       "      <th>Topic</th>\n",
       "      <th>Semester</th>\n",
       "      <th>Relation</th>\n",
       "      <th>raisedhands</th>\n",
       "      <th>VisITedResources</th>\n",
       "      <th>AnnouncementsView</th>\n",
       "      <th>Discussion</th>\n",
       "      <th>ParentAnsweringSurvey</th>\n",
       "      <th>ParentschoolSatisfaction</th>\n",
       "      <th>StudentAbsenceDays</th>\n",
       "      <th>Class</th>\n",
       "    </tr>\n",
       "  </thead>\n",
       "  <tbody>\n",
       "    <tr>\n",
       "      <th>0</th>\n",
       "      <td>M</td>\n",
       "      <td>KW</td>\n",
       "      <td>KuwaIT</td>\n",
       "      <td>lowerlevel</td>\n",
       "      <td>G-04</td>\n",
       "      <td>A</td>\n",
       "      <td>IT</td>\n",
       "      <td>F</td>\n",
       "      <td>Father</td>\n",
       "      <td>15</td>\n",
       "      <td>16</td>\n",
       "      <td>2</td>\n",
       "      <td>20</td>\n",
       "      <td>Yes</td>\n",
       "      <td>Good</td>\n",
       "      <td>Under-7</td>\n",
       "      <td>M</td>\n",
       "    </tr>\n",
       "    <tr>\n",
       "      <th>1</th>\n",
       "      <td>M</td>\n",
       "      <td>KW</td>\n",
       "      <td>KuwaIT</td>\n",
       "      <td>lowerlevel</td>\n",
       "      <td>G-04</td>\n",
       "      <td>A</td>\n",
       "      <td>IT</td>\n",
       "      <td>F</td>\n",
       "      <td>Father</td>\n",
       "      <td>20</td>\n",
       "      <td>20</td>\n",
       "      <td>3</td>\n",
       "      <td>25</td>\n",
       "      <td>Yes</td>\n",
       "      <td>Good</td>\n",
       "      <td>Under-7</td>\n",
       "      <td>M</td>\n",
       "    </tr>\n",
       "    <tr>\n",
       "      <th>2</th>\n",
       "      <td>M</td>\n",
       "      <td>KW</td>\n",
       "      <td>KuwaIT</td>\n",
       "      <td>lowerlevel</td>\n",
       "      <td>G-04</td>\n",
       "      <td>A</td>\n",
       "      <td>IT</td>\n",
       "      <td>F</td>\n",
       "      <td>Father</td>\n",
       "      <td>10</td>\n",
       "      <td>7</td>\n",
       "      <td>0</td>\n",
       "      <td>30</td>\n",
       "      <td>No</td>\n",
       "      <td>Bad</td>\n",
       "      <td>Above-7</td>\n",
       "      <td>L</td>\n",
       "    </tr>\n",
       "    <tr>\n",
       "      <th>3</th>\n",
       "      <td>M</td>\n",
       "      <td>KW</td>\n",
       "      <td>KuwaIT</td>\n",
       "      <td>lowerlevel</td>\n",
       "      <td>G-04</td>\n",
       "      <td>A</td>\n",
       "      <td>IT</td>\n",
       "      <td>F</td>\n",
       "      <td>Father</td>\n",
       "      <td>30</td>\n",
       "      <td>25</td>\n",
       "      <td>5</td>\n",
       "      <td>35</td>\n",
       "      <td>No</td>\n",
       "      <td>Bad</td>\n",
       "      <td>Above-7</td>\n",
       "      <td>L</td>\n",
       "    </tr>\n",
       "    <tr>\n",
       "      <th>4</th>\n",
       "      <td>M</td>\n",
       "      <td>KW</td>\n",
       "      <td>KuwaIT</td>\n",
       "      <td>lowerlevel</td>\n",
       "      <td>G-04</td>\n",
       "      <td>A</td>\n",
       "      <td>IT</td>\n",
       "      <td>F</td>\n",
       "      <td>Father</td>\n",
       "      <td>40</td>\n",
       "      <td>50</td>\n",
       "      <td>12</td>\n",
       "      <td>50</td>\n",
       "      <td>No</td>\n",
       "      <td>Bad</td>\n",
       "      <td>Above-7</td>\n",
       "      <td>M</td>\n",
       "    </tr>\n",
       "  </tbody>\n",
       "</table>\n",
       "</div>"
      ],
      "text/plain": [
       "  gender NationalITy PlaceofBirth     StageID GradeID SectionID Topic  \\\n",
       "0      M          KW       KuwaIT  lowerlevel    G-04         A    IT   \n",
       "1      M          KW       KuwaIT  lowerlevel    G-04         A    IT   \n",
       "2      M          KW       KuwaIT  lowerlevel    G-04         A    IT   \n",
       "3      M          KW       KuwaIT  lowerlevel    G-04         A    IT   \n",
       "4      M          KW       KuwaIT  lowerlevel    G-04         A    IT   \n",
       "\n",
       "  Semester Relation  raisedhands  VisITedResources  AnnouncementsView  \\\n",
       "0        F   Father           15                16                  2   \n",
       "1        F   Father           20                20                  3   \n",
       "2        F   Father           10                 7                  0   \n",
       "3        F   Father           30                25                  5   \n",
       "4        F   Father           40                50                 12   \n",
       "\n",
       "   Discussion ParentAnsweringSurvey ParentschoolSatisfaction  \\\n",
       "0          20                   Yes                     Good   \n",
       "1          25                   Yes                     Good   \n",
       "2          30                    No                      Bad   \n",
       "3          35                    No                      Bad   \n",
       "4          50                    No                      Bad   \n",
       "\n",
       "  StudentAbsenceDays Class  \n",
       "0            Under-7     M  \n",
       "1            Under-7     M  \n",
       "2            Above-7     L  \n",
       "3            Above-7     L  \n",
       "4            Above-7     M  "
      ]
     },
     "execution_count": 22,
     "metadata": {},
     "output_type": "execute_result"
    }
   ],
   "source": [
    "df.head()"
   ]
  },
  {
   "cell_type": "code",
   "execution_count": 23,
   "id": "f9dc1758",
   "metadata": {},
   "outputs": [],
   "source": [
    "df1=df.copy()"
   ]
  },
  {
   "cell_type": "code",
   "execution_count": 24,
   "id": "1bd9e5c3",
   "metadata": {},
   "outputs": [
    {
     "data": {
      "text/plain": [
       "Index(['gender', 'NationalITy', 'PlaceofBirth', 'StageID', 'GradeID',\n",
       "       'SectionID', 'Topic', 'Semester', 'Relation', 'raisedhands',\n",
       "       'VisITedResources', 'AnnouncementsView', 'Discussion',\n",
       "       'ParentAnsweringSurvey', 'ParentschoolSatisfaction',\n",
       "       'StudentAbsenceDays', 'Class'],\n",
       "      dtype='object')"
      ]
     },
     "execution_count": 24,
     "metadata": {},
     "output_type": "execute_result"
    }
   ],
   "source": [
    "df1.columns"
   ]
  },
  {
   "cell_type": "code",
   "execution_count": 25,
   "id": "3c994575",
   "metadata": {},
   "outputs": [],
   "source": [
    "df1.drop(columns=['NationalITy', 'PlaceofBirth' , 'SectionID'] ,axis=1, inplace=True)"
   ]
  },
  {
   "cell_type": "code",
   "execution_count": 26,
   "id": "b27cd153",
   "metadata": {},
   "outputs": [
    {
     "data": {
      "text/html": [
       "<div>\n",
       "<style scoped>\n",
       "    .dataframe tbody tr th:only-of-type {\n",
       "        vertical-align: middle;\n",
       "    }\n",
       "\n",
       "    .dataframe tbody tr th {\n",
       "        vertical-align: top;\n",
       "    }\n",
       "\n",
       "    .dataframe thead th {\n",
       "        text-align: right;\n",
       "    }\n",
       "</style>\n",
       "<table border=\"1\" class=\"dataframe\">\n",
       "  <thead>\n",
       "    <tr style=\"text-align: right;\">\n",
       "      <th></th>\n",
       "      <th>gender</th>\n",
       "      <th>StageID</th>\n",
       "      <th>GradeID</th>\n",
       "      <th>Topic</th>\n",
       "      <th>Semester</th>\n",
       "      <th>Relation</th>\n",
       "      <th>raisedhands</th>\n",
       "      <th>VisITedResources</th>\n",
       "      <th>AnnouncementsView</th>\n",
       "      <th>Discussion</th>\n",
       "      <th>ParentAnsweringSurvey</th>\n",
       "      <th>ParentschoolSatisfaction</th>\n",
       "      <th>StudentAbsenceDays</th>\n",
       "      <th>Class</th>\n",
       "    </tr>\n",
       "  </thead>\n",
       "  <tbody>\n",
       "    <tr>\n",
       "      <th>0</th>\n",
       "      <td>M</td>\n",
       "      <td>lowerlevel</td>\n",
       "      <td>G-04</td>\n",
       "      <td>IT</td>\n",
       "      <td>F</td>\n",
       "      <td>Father</td>\n",
       "      <td>15</td>\n",
       "      <td>16</td>\n",
       "      <td>2</td>\n",
       "      <td>20</td>\n",
       "      <td>Yes</td>\n",
       "      <td>Good</td>\n",
       "      <td>Under-7</td>\n",
       "      <td>M</td>\n",
       "    </tr>\n",
       "    <tr>\n",
       "      <th>1</th>\n",
       "      <td>M</td>\n",
       "      <td>lowerlevel</td>\n",
       "      <td>G-04</td>\n",
       "      <td>IT</td>\n",
       "      <td>F</td>\n",
       "      <td>Father</td>\n",
       "      <td>20</td>\n",
       "      <td>20</td>\n",
       "      <td>3</td>\n",
       "      <td>25</td>\n",
       "      <td>Yes</td>\n",
       "      <td>Good</td>\n",
       "      <td>Under-7</td>\n",
       "      <td>M</td>\n",
       "    </tr>\n",
       "    <tr>\n",
       "      <th>2</th>\n",
       "      <td>M</td>\n",
       "      <td>lowerlevel</td>\n",
       "      <td>G-04</td>\n",
       "      <td>IT</td>\n",
       "      <td>F</td>\n",
       "      <td>Father</td>\n",
       "      <td>10</td>\n",
       "      <td>7</td>\n",
       "      <td>0</td>\n",
       "      <td>30</td>\n",
       "      <td>No</td>\n",
       "      <td>Bad</td>\n",
       "      <td>Above-7</td>\n",
       "      <td>L</td>\n",
       "    </tr>\n",
       "    <tr>\n",
       "      <th>3</th>\n",
       "      <td>M</td>\n",
       "      <td>lowerlevel</td>\n",
       "      <td>G-04</td>\n",
       "      <td>IT</td>\n",
       "      <td>F</td>\n",
       "      <td>Father</td>\n",
       "      <td>30</td>\n",
       "      <td>25</td>\n",
       "      <td>5</td>\n",
       "      <td>35</td>\n",
       "      <td>No</td>\n",
       "      <td>Bad</td>\n",
       "      <td>Above-7</td>\n",
       "      <td>L</td>\n",
       "    </tr>\n",
       "    <tr>\n",
       "      <th>4</th>\n",
       "      <td>M</td>\n",
       "      <td>lowerlevel</td>\n",
       "      <td>G-04</td>\n",
       "      <td>IT</td>\n",
       "      <td>F</td>\n",
       "      <td>Father</td>\n",
       "      <td>40</td>\n",
       "      <td>50</td>\n",
       "      <td>12</td>\n",
       "      <td>50</td>\n",
       "      <td>No</td>\n",
       "      <td>Bad</td>\n",
       "      <td>Above-7</td>\n",
       "      <td>M</td>\n",
       "    </tr>\n",
       "  </tbody>\n",
       "</table>\n",
       "</div>"
      ],
      "text/plain": [
       "  gender     StageID GradeID Topic Semester Relation  raisedhands  \\\n",
       "0      M  lowerlevel    G-04    IT        F   Father           15   \n",
       "1      M  lowerlevel    G-04    IT        F   Father           20   \n",
       "2      M  lowerlevel    G-04    IT        F   Father           10   \n",
       "3      M  lowerlevel    G-04    IT        F   Father           30   \n",
       "4      M  lowerlevel    G-04    IT        F   Father           40   \n",
       "\n",
       "   VisITedResources  AnnouncementsView  Discussion ParentAnsweringSurvey  \\\n",
       "0                16                  2          20                   Yes   \n",
       "1                20                  3          25                   Yes   \n",
       "2                 7                  0          30                    No   \n",
       "3                25                  5          35                    No   \n",
       "4                50                 12          50                    No   \n",
       "\n",
       "  ParentschoolSatisfaction StudentAbsenceDays Class  \n",
       "0                     Good            Under-7     M  \n",
       "1                     Good            Under-7     M  \n",
       "2                      Bad            Above-7     L  \n",
       "3                      Bad            Above-7     L  \n",
       "4                      Bad            Above-7     M  "
      ]
     },
     "execution_count": 26,
     "metadata": {},
     "output_type": "execute_result"
    }
   ],
   "source": [
    "df1.head()"
   ]
  },
  {
   "cell_type": "code",
   "execution_count": 27,
   "id": "674d0bd0",
   "metadata": {},
   "outputs": [
    {
     "data": {
      "image/png": "[encoded data removed]",
      "text/plain": [
       "<Figure size 432x288 with 2 Axes>"
      ]
     },
     "metadata": {
      "needs_background": "light"
     },
     "output_type": "display_data"
    }
   ],
   "source": [
    "sns.heatmap(df1.corr(), annot=True)\n",
    "plt.show()"
   ]
  },
  {
   "cell_type": "code",
   "execution_count": 28,
   "id": "73b997c7",
   "metadata": {},
   "outputs": [
    {
     "data": {
      "text/plain": [
       "['gender',\n",
       " 'StageID',\n",
       " 'GradeID',\n",
       " 'Topic',\n",
       " 'Semester',\n",
       " 'Relation',\n",
       " 'ParentAnsweringSurvey',\n",
       " 'ParentschoolSatisfaction',\n",
       " 'StudentAbsenceDays']"
      ]
     },
     "execution_count": 28,
     "metadata": {},
     "output_type": "execute_result"
    }
   ],
   "source": [
    "cols=[i for i in df1.columns if df[i].dtype==object]\n",
    "cols.pop(-1)\n",
    "cols"
   ]
  },
  {
   "cell_type": "code",
   "execution_count": 29,
   "id": "57a997ca",
   "metadata": {},
   "outputs": [
    {
     "data": {
      "text/html": [
       "<div>\n",
       "<style scoped>\n",
       "    .dataframe tbody tr th:only-of-type {\n",
       "        vertical-align: middle;\n",
       "    }\n",
       "\n",
       "    .dataframe tbody tr th {\n",
       "        vertical-align: top;\n",
       "    }\n",
       "\n",
       "    .dataframe thead th {\n",
       "        text-align: right;\n",
       "    }\n",
       "</style>\n",
       "<table border=\"1\" class=\"dataframe\">\n",
       "  <thead>\n",
       "    <tr style=\"text-align: right;\">\n",
       "      <th></th>\n",
       "      <th>raisedhands</th>\n",
       "      <th>VisITedResources</th>\n",
       "      <th>AnnouncementsView</th>\n",
       "      <th>Discussion</th>\n",
       "      <th>Class</th>\n",
       "      <th>gender_M</th>\n",
       "      <th>StageID_MiddleSchool</th>\n",
       "      <th>StageID_lowerlevel</th>\n",
       "      <th>GradeID_G-04</th>\n",
       "      <th>GradeID_G-05</th>\n",
       "      <th>...</th>\n",
       "      <th>Topic_IT</th>\n",
       "      <th>Topic_Math</th>\n",
       "      <th>Topic_Quran</th>\n",
       "      <th>Topic_Science</th>\n",
       "      <th>Topic_Spanish</th>\n",
       "      <th>Semester_S</th>\n",
       "      <th>Relation_Mum</th>\n",
       "      <th>ParentAnsweringSurvey_Yes</th>\n",
       "      <th>ParentschoolSatisfaction_Good</th>\n",
       "      <th>StudentAbsenceDays_Under-7</th>\n",
       "    </tr>\n",
       "  </thead>\n",
       "  <tbody>\n",
       "    <tr>\n",
       "      <th>0</th>\n",
       "      <td>15</td>\n",
       "      <td>16</td>\n",
       "      <td>2</td>\n",
       "      <td>20</td>\n",
       "      <td>M</td>\n",
       "      <td>1</td>\n",
       "      <td>0</td>\n",
       "      <td>1</td>\n",
       "      <td>1</td>\n",
       "      <td>0</td>\n",
       "      <td>...</td>\n",
       "      <td>1</td>\n",
       "      <td>0</td>\n",
       "      <td>0</td>\n",
       "      <td>0</td>\n",
       "      <td>0</td>\n",
       "      <td>0</td>\n",
       "      <td>0</td>\n",
       "      <td>1</td>\n",
       "      <td>1</td>\n",
       "      <td>1</td>\n",
       "    </tr>\n",
       "    <tr>\n",
       "      <th>1</th>\n",
       "      <td>20</td>\n",
       "      <td>20</td>\n",
       "      <td>3</td>\n",
       "      <td>25</td>\n",
       "      <td>M</td>\n",
       "      <td>1</td>\n",
       "      <td>0</td>\n",
       "      <td>1</td>\n",
       "      <td>1</td>\n",
       "      <td>0</td>\n",
       "      <td>...</td>\n",
       "      <td>1</td>\n",
       "      <td>0</td>\n",
       "      <td>0</td>\n",
       "      <td>0</td>\n",
       "      <td>0</td>\n",
       "      <td>0</td>\n",
       "      <td>0</td>\n",
       "      <td>1</td>\n",
       "      <td>1</td>\n",
       "      <td>1</td>\n",
       "    </tr>\n",
       "    <tr>\n",
       "      <th>2</th>\n",
       "      <td>10</td>\n",
       "      <td>7</td>\n",
       "      <td>0</td>\n",
       "      <td>30</td>\n",
       "      <td>L</td>\n",
       "      <td>1</td>\n",
       "      <td>0</td>\n",
       "      <td>1</td>\n",
       "      <td>1</td>\n",
       "      <td>0</td>\n",
       "      <td>...</td>\n",
       "      <td>1</td>\n",
       "      <td>0</td>\n",
       "      <td>0</td>\n",
       "      <td>0</td>\n",
       "      <td>0</td>\n",
       "      <td>0</td>\n",
       "      <td>0</td>\n",
       "      <td>0</td>\n",
       "      <td>0</td>\n",
       "      <td>0</td>\n",
       "    </tr>\n",
       "    <tr>\n",
       "      <th>3</th>\n",
       "      <td>30</td>\n",
       "      <td>25</td>\n",
       "      <td>5</td>\n",
       "      <td>35</td>\n",
       "      <td>L</td>\n",
       "      <td>1</td>\n",
       "      <td>0</td>\n",
       "      <td>1</td>\n",
       "      <td>1</td>\n",
       "      <td>0</td>\n",
       "      <td>...</td>\n",
       "      <td>1</td>\n",
       "      <td>0</td>\n",
       "      <td>0</td>\n",
       "      <td>0</td>\n",
       "      <td>0</td>\n",
       "      <td>0</td>\n",
       "      <td>0</td>\n",
       "      <td>0</td>\n",
       "      <td>0</td>\n",
       "      <td>0</td>\n",
       "    </tr>\n",
       "    <tr>\n",
       "      <th>4</th>\n",
       "      <td>40</td>\n",
       "      <td>50</td>\n",
       "      <td>12</td>\n",
       "      <td>50</td>\n",
       "      <td>M</td>\n",
       "      <td>1</td>\n",
       "      <td>0</td>\n",
       "      <td>1</td>\n",
       "      <td>1</td>\n",
       "      <td>0</td>\n",
       "      <td>...</td>\n",
       "      <td>1</td>\n",
       "      <td>0</td>\n",
       "      <td>0</td>\n",
       "      <td>0</td>\n",
       "      <td>0</td>\n",
       "      <td>0</td>\n",
       "      <td>0</td>\n",
       "      <td>0</td>\n",
       "      <td>0</td>\n",
       "      <td>0</td>\n",
       "    </tr>\n",
       "  </tbody>\n",
       "</table>\n",
       "<p>5 rows × 33 columns</p>\n",
       "</div>"
      ],
      "text/plain": [
       "   raisedhands  VisITedResources  AnnouncementsView  Discussion Class  \\\n",
       "0           15                16                  2          20     M   \n",
       "1           20                20                  3          25     M   \n",
       "2           10                 7                  0          30     L   \n",
       "3           30                25                  5          35     L   \n",
       "4           40                50                 12          50     M   \n",
       "\n",
       "   gender_M  StageID_MiddleSchool  StageID_lowerlevel  GradeID_G-04  \\\n",
       "0         1                     0                   1             1   \n",
       "1         1                     0                   1             1   \n",
       "2         1                     0                   1             1   \n",
       "3         1                     0                   1             1   \n",
       "4         1                     0                   1             1   \n",
       "\n",
       "   GradeID_G-05  ...  Topic_IT  Topic_Math  Topic_Quran  Topic_Science  \\\n",
       "0             0  ...         1           0            0              0   \n",
       "1             0  ...         1           0            0              0   \n",
       "2             0  ...         1           0            0              0   \n",
       "3             0  ...         1           0            0              0   \n",
       "4             0  ...         1           0            0              0   \n",
       "\n",
       "   Topic_Spanish  Semester_S  Relation_Mum  ParentAnsweringSurvey_Yes  \\\n",
       "0              0           0             0                          1   \n",
       "1              0           0             0                          1   \n",
       "2              0           0             0                          0   \n",
       "3              0           0             0                          0   \n",
       "4              0           0             0                          0   \n",
       "\n",
       "   ParentschoolSatisfaction_Good  StudentAbsenceDays_Under-7  \n",
       "0                              1                           1  \n",
       "1                              1                           1  \n",
       "2                              0                           0  \n",
       "3                              0                           0  \n",
       "4                              0                           0  \n",
       "\n",
       "[5 rows x 33 columns]"
      ]
     },
     "execution_count": 29,
     "metadata": {},
     "output_type": "execute_result"
    }
   ],
   "source": [
    "df1=pd.get_dummies(df1,columns=cols,drop_first=True)\n",
    "df1.head(5)"
   ]
  },
  {
   "cell_type": "code",
   "execution_count": 30,
   "id": "bc73f1a7",
   "metadata": {},
   "outputs": [
    {
     "data": {
      "text/html": [
       "<div>\n",
       "<style scoped>\n",
       "    .dataframe tbody tr th:only-of-type {\n",
       "        vertical-align: middle;\n",
       "    }\n",
       "\n",
       "    .dataframe tbody tr th {\n",
       "        vertical-align: top;\n",
       "    }\n",
       "\n",
       "    .dataframe thead th {\n",
       "        text-align: right;\n",
       "    }\n",
       "</style>\n",
       "<table border=\"1\" class=\"dataframe\">\n",
       "  <thead>\n",
       "    <tr style=\"text-align: right;\">\n",
       "      <th></th>\n",
       "      <th>raisedhands</th>\n",
       "      <th>VisITedResources</th>\n",
       "      <th>AnnouncementsView</th>\n",
       "      <th>Discussion</th>\n",
       "      <th>Class</th>\n",
       "      <th>gender_M</th>\n",
       "      <th>StageID_MiddleSchool</th>\n",
       "      <th>StageID_lowerlevel</th>\n",
       "      <th>GradeID_G-04</th>\n",
       "      <th>GradeID_G-05</th>\n",
       "      <th>...</th>\n",
       "      <th>Topic_IT</th>\n",
       "      <th>Topic_Math</th>\n",
       "      <th>Topic_Quran</th>\n",
       "      <th>Topic_Science</th>\n",
       "      <th>Topic_Spanish</th>\n",
       "      <th>Semester_S</th>\n",
       "      <th>Relation_Mum</th>\n",
       "      <th>ParentAnsweringSurvey_Yes</th>\n",
       "      <th>ParentschoolSatisfaction_Good</th>\n",
       "      <th>StudentAbsenceDays_Under-7</th>\n",
       "    </tr>\n",
       "  </thead>\n",
       "  <tbody>\n",
       "    <tr>\n",
       "      <th>0</th>\n",
       "      <td>15</td>\n",
       "      <td>16</td>\n",
       "      <td>2</td>\n",
       "      <td>20</td>\n",
       "      <td>1</td>\n",
       "      <td>1</td>\n",
       "      <td>0</td>\n",
       "      <td>1</td>\n",
       "      <td>1</td>\n",
       "      <td>0</td>\n",
       "      <td>...</td>\n",
       "      <td>1</td>\n",
       "      <td>0</td>\n",
       "      <td>0</td>\n",
       "      <td>0</td>\n",
       "      <td>0</td>\n",
       "      <td>0</td>\n",
       "      <td>0</td>\n",
       "      <td>1</td>\n",
       "      <td>1</td>\n",
       "      <td>1</td>\n",
       "    </tr>\n",
       "    <tr>\n",
       "      <th>1</th>\n",
       "      <td>20</td>\n",
       "      <td>20</td>\n",
       "      <td>3</td>\n",
       "      <td>25</td>\n",
       "      <td>1</td>\n",
       "      <td>1</td>\n",
       "      <td>0</td>\n",
       "      <td>1</td>\n",
       "      <td>1</td>\n",
       "      <td>0</td>\n",
       "      <td>...</td>\n",
       "      <td>1</td>\n",
       "      <td>0</td>\n",
       "      <td>0</td>\n",
       "      <td>0</td>\n",
       "      <td>0</td>\n",
       "      <td>0</td>\n",
       "      <td>0</td>\n",
       "      <td>1</td>\n",
       "      <td>1</td>\n",
       "      <td>1</td>\n",
       "    </tr>\n",
       "  </tbody>\n",
       "</table>\n",
       "<p>2 rows × 33 columns</p>\n",
       "</div>"
      ],
      "text/plain": [
       "   raisedhands  VisITedResources  AnnouncementsView  Discussion  Class  \\\n",
       "0           15                16                  2          20      1   \n",
       "1           20                20                  3          25      1   \n",
       "\n",
       "   gender_M  StageID_MiddleSchool  StageID_lowerlevel  GradeID_G-04  \\\n",
       "0         1                     0                   1             1   \n",
       "1         1                     0                   1             1   \n",
       "\n",
       "   GradeID_G-05  ...  Topic_IT  Topic_Math  Topic_Quran  Topic_Science  \\\n",
       "0             0  ...         1           0            0              0   \n",
       "1             0  ...         1           0            0              0   \n",
       "\n",
       "   Topic_Spanish  Semester_S  Relation_Mum  ParentAnsweringSurvey_Yes  \\\n",
       "0              0           0             0                          1   \n",
       "1              0           0             0                          1   \n",
       "\n",
       "   ParentschoolSatisfaction_Good  StudentAbsenceDays_Under-7  \n",
       "0                              1                           1  \n",
       "1                              1                           1  \n",
       "\n",
       "[2 rows x 33 columns]"
      ]
     },
     "execution_count": 30,
     "metadata": {},
     "output_type": "execute_result"
    }
   ],
   "source": [
    "df1['Class']=df1['Class'].replace({'L':0, 'M':1, 'H':2})\n",
    "df1.head(2)"
   ]
  },
  {
   "cell_type": "code",
   "execution_count": 31,
   "id": "e0b36db0",
   "metadata": {},
   "outputs": [],
   "source": [
    "x=df1.drop('Class',axis=1)\n",
    "y=df1['Class']"
   ]
  },
  {
   "cell_type": "code",
   "execution_count": 32,
   "id": "9b1765f7",
   "metadata": {},
   "outputs": [],
   "source": [
    "from sklearn.model_selection import train_test_split\n",
    "\n",
    "x_train,x_test,y_train,y_test=train_test_split(x,y,test_size=0.20,random_state=77)"
   ]
  },
  {
   "cell_type": "code",
   "execution_count": 33,
   "id": "6a13a4d9",
   "metadata": {},
   "outputs": [],
   "source": [
    "from sklearn.preprocessing import StandardScaler\n",
    "ss=StandardScaler()"
   ]
  },
  {
   "cell_type": "code",
   "execution_count": 34,
   "id": "157d4d59",
   "metadata": {},
   "outputs": [],
   "source": [
    "x_train=ss.fit_transform(x_train)\n",
    "x_test=ss.transform(x_test)"
   ]
  },
  {
   "cell_type": "code",
   "execution_count": 35,
   "id": "f9718fae",
   "metadata": {},
   "outputs": [],
   "source": [
    "from sklearn.linear_model import LogisticRegression\n",
    "from sklearn.metrics import classification_report,accuracy_score,confusion_matrix"
   ]
  },
  {
   "cell_type": "code",
   "execution_count": 36,
   "id": "289d1549",
   "metadata": {},
   "outputs": [],
   "source": [
    "classifier=LogisticRegression()"
   ]
  },
  {
   "cell_type": "code",
   "execution_count": 37,
   "id": "a99565ca",
   "metadata": {},
   "outputs": [],
   "source": [
    "lr=classifier.fit(x_train,y_train)\n",
    "y_pred=classifier.predict(x_test)\n",
    "y_pred_train=classifier.predict(x_train)"
   ]
  },
  {
   "cell_type": "code",
   "execution_count": 38,
   "id": "af1bb348",
   "metadata": {},
   "outputs": [
    {
     "name": "stdout",
     "output_type": "stream",
     "text": [
      "For test data\n",
      "              precision    recall  f1-score   support\n",
      "\n",
      "           0       0.81      0.88      0.84        24\n",
      "           1       0.78      0.77      0.77        47\n",
      "           2       0.75      0.72      0.73        25\n",
      "\n",
      "    accuracy                           0.78        96\n",
      "   macro avg       0.78      0.79      0.78        96\n",
      "weighted avg       0.78      0.78      0.78        96\n",
      "\n"
     ]
    }
   ],
   "source": [
    "print('For test data')\n",
    "print(classification_report(y_test,y_pred))"
   ]
  },
  {
   "cell_type": "code",
   "execution_count": 39,
   "id": "08acc48e",
   "metadata": {},
   "outputs": [
    {
     "name": "stdout",
     "output_type": "stream",
     "text": [
      "For train data\n",
      "              precision    recall  f1-score   support\n",
      "\n",
      "           0       0.90      0.92      0.91       103\n",
      "           1       0.85      0.81      0.83       164\n",
      "           2       0.82      0.86      0.84       117\n",
      "\n",
      "    accuracy                           0.86       384\n",
      "   macro avg       0.86      0.87      0.86       384\n",
      "weighted avg       0.86      0.86      0.86       384\n",
      "\n"
     ]
    }
   ],
   "source": [
    "print('For train data')\n",
    "print(classification_report(y_train,y_pred_train))"
   ]
  },
  {
   "cell_type": "code",
   "execution_count": 40,
   "id": "e2ceb021",
   "metadata": {},
   "outputs": [],
   "source": [
    "from sklearn.tree import DecisionTreeClassifier\n",
    "classifier2=DecisionTreeClassifier(random_state=77,max_depth=10,max_leaf_nodes=7,criterion='entropy')"
   ]
  },
  {
   "cell_type": "code",
   "execution_count": 41,
   "id": "a302e7ee",
   "metadata": {},
   "outputs": [],
   "source": [
    "dt=classifier2.fit(x_train,y_train)\n",
    "y_pred=classifier2.predict(x_test)\n",
    "y_pred_train=classifier2.predict(x_train)"
   ]
  },
  {
   "cell_type": "code",
   "execution_count": 42,
   "id": "3c093aef",
   "metadata": {},
   "outputs": [
    {
     "name": "stdout",
     "output_type": "stream",
     "text": [
      "For test data\n",
      "              precision    recall  f1-score   support\n",
      "\n",
      "           0       0.75      0.75      0.75        24\n",
      "           1       0.69      0.57      0.63        47\n",
      "           2       0.58      0.76      0.66        25\n",
      "\n",
      "    accuracy                           0.67        96\n",
      "   macro avg       0.67      0.69      0.68        96\n",
      "weighted avg       0.68      0.67      0.67        96\n",
      "\n",
      "For train data\n",
      "              precision    recall  f1-score   support\n",
      "\n",
      "           0       0.93      0.81      0.86       103\n",
      "           1       0.78      0.57      0.65       164\n",
      "           2       0.62      0.93      0.75       117\n",
      "\n",
      "    accuracy                           0.74       384\n",
      "   macro avg       0.78      0.77      0.76       384\n",
      "weighted avg       0.77      0.74      0.74       384\n",
      "\n"
     ]
    }
   ],
   "source": [
    "print('For test data')\n",
    "print(classification_report(y_test,y_pred))\n",
    "print('For train data')\n",
    "print(classification_report(y_train,y_pred_train))"
   ]
  },
  {
   "cell_type": "code",
   "execution_count": 43,
   "id": "7501b33c",
   "metadata": {},
   "outputs": [
    {
     "data": {
      "text/plain": [
       "{'criterion': 'gini',\n",
       " 'max_depth': 8,\n",
       " 'max_leaf_nodes': 30,\n",
       " 'min_samples_split': 10}"
      ]
     },
     "execution_count": 43,
     "metadata": {},
     "output_type": "execute_result"
    }
   ],
   "source": [
    "from sklearn.model_selection import GridSearchCV\n",
    "param_grid = {'max_depth':[2,3,4,5,6,8,10,14,16], 'criterion':['gini','entropy'],\n",
    "             'max_leaf_nodes':[2,5,10,15,20,25,30],'min_samples_split':[10,20,30,40]}\n",
    "dt1=DecisionTreeClassifier(random_state=77)\n",
    "grid=GridSearchCV(dt1,param_grid,cv=10)\n",
    "grid.fit(x_train,y_train)\n",
    "grid.best_params_"
   ]
  },
  {
   "cell_type": "code",
   "execution_count": 47,
   "id": "868b1638",
   "metadata": {},
   "outputs": [
    {
     "name": "stdout",
     "output_type": "stream",
     "text": [
      "For test data\n",
      "              precision    recall  f1-score   support\n",
      "\n",
      "           0       0.70      0.88      0.78        24\n",
      "           1       0.69      0.72      0.71        47\n",
      "           2       0.71      0.48      0.57        25\n",
      "\n",
      "    accuracy                           0.70        96\n",
      "   macro avg       0.70      0.69      0.69        96\n",
      "weighted avg       0.70      0.70      0.69        96\n",
      "\n",
      "For train data\n",
      "              precision    recall  f1-score   support\n",
      "\n",
      "           0       0.90      0.95      0.92       103\n",
      "           1       0.86      0.87      0.86       164\n",
      "           2       0.87      0.82      0.85       117\n",
      "\n",
      "    accuracy                           0.88       384\n",
      "   macro avg       0.88      0.88      0.88       384\n",
      "weighted avg       0.87      0.88      0.87       384\n",
      "\n"
     ]
    }
   ],
   "source": [
    "classifier3=DecisionTreeClassifier(random_state=77,max_depth=8,max_leaf_nodes=30,criterion='gini',min_samples_split=10)\n",
    "dt=classifier3.fit(x_train,y_train)\n",
    "y_pred=classifier3.predict(x_test)\n",
    "y_pred_train=classifier3.predict(x_train)\n",
    "print('For test data')\n",
    "print(classification_report(y_test,y_pred))\n",
    "print('For train data')\n",
    "print(classification_report(y_train,y_pred_train))"
   ]
  },
  {
   "cell_type": "code",
   "execution_count": 48,
   "id": "237d9e4e",
   "metadata": {},
   "outputs": [
    {
     "name": "stdout",
     "output_type": "stream",
     "text": [
      "For test data\n",
      "              precision    recall  f1-score   support\n",
      "\n",
      "           0       0.76      0.79      0.78        24\n",
      "           1       0.70      0.81      0.75        47\n",
      "           2       0.82      0.56      0.67        25\n",
      "\n",
      "    accuracy                           0.74        96\n",
      "   macro avg       0.76      0.72      0.73        96\n",
      "weighted avg       0.75      0.74      0.74        96\n",
      "\n",
      "For train data\n",
      "              precision    recall  f1-score   support\n",
      "\n",
      "           0       0.94      0.95      0.95       103\n",
      "           1       0.90      0.93      0.91       164\n",
      "           2       0.95      0.90      0.92       117\n",
      "\n",
      "    accuracy                           0.92       384\n",
      "   macro avg       0.93      0.93      0.93       384\n",
      "weighted avg       0.93      0.92      0.92       384\n",
      "\n"
     ]
    }
   ],
   "source": [
    "from sklearn.ensemble import RandomForestClassifier\n",
    "classifier4=RandomForestClassifier(random_state=77,max_depth=20,max_leaf_nodes=30,criterion='gini',n_estimators=30)\n",
    "rf=classifier4.fit(x_train,y_train)\n",
    "y_pred=classifier4.predict(x_test)\n",
    "y_pred_train=classifier4.predict(x_train)\n",
    "print('For test data')\n",
    "print(classification_report(y_test,y_pred))\n",
    "print('For train data')\n",
    "print(classification_report(y_train,y_pred_train))"
   ]
  },
  {
   "cell_type": "code",
   "execution_count": 49,
   "id": "fa6258e2",
   "metadata": {},
   "outputs": [
    {
     "data": {
      "text/plain": [
       "{'criterion': 'gini',\n",
       " 'max_depth': 12,\n",
       " 'max_leaf_nodes': 30,\n",
       " 'n_estimators': 50}"
      ]
     },
     "execution_count": 49,
     "metadata": {},
     "output_type": "execute_result"
    }
   ],
   "source": [
    "param_grid = {'max_depth':[2,3,4,6,8,10,12,17,19],'criterion':['gini','entropy'],\n",
    "              'max_leaf_nodes':[5,10,15,20,25,30,35], 'n_estimators':[10,20,30,40,50]}\n",
    "rf1 = RandomForestClassifier(random_state=77)\n",
    "grid = GridSearchCV(rf1,param_grid,cv=10)\n",
    "grid.fit(x_train,y_train)\n",
    "grid.best_params_"
   ]
  },
  {
   "cell_type": "code",
   "execution_count": 50,
   "id": "e36c89d7",
   "metadata": {},
   "outputs": [
    {
     "name": "stdout",
     "output_type": "stream",
     "text": [
      "For test data\n",
      "              precision    recall  f1-score   support\n",
      "\n",
      "           0       0.79      0.79      0.79        24\n",
      "           1       0.72      0.81      0.76        47\n",
      "           2       0.79      0.60      0.68        25\n",
      "\n",
      "    accuracy                           0.75        96\n",
      "   macro avg       0.77      0.73      0.74        96\n",
      "weighted avg       0.75      0.75      0.75        96\n",
      "\n",
      "For train data\n",
      "              precision    recall  f1-score   support\n",
      "\n",
      "           0       0.94      0.95      0.95       103\n",
      "           1       0.90      0.93      0.91       164\n",
      "           2       0.95      0.90      0.92       117\n",
      "\n",
      "    accuracy                           0.92       384\n",
      "   macro avg       0.93      0.93      0.93       384\n",
      "weighted avg       0.93      0.92      0.92       384\n",
      "\n"
     ]
    }
   ],
   "source": [
    "classifier5=RandomForestClassifier(random_state=77,max_depth=12,max_leaf_nodes=30,criterion='gini',n_estimators=50)\n",
    "rf=classifier5.fit(x_train,y_train)\n",
    "y_pred=classifier5.predict(x_test)\n",
    "y_pred_train=classifier5.predict(x_train)\n",
    "print('For test data')\n",
    "print(classification_report(y_test,y_pred))\n",
    "print('For train data')\n",
    "print(classification_report(y_train,y_pred_train))"
   ]
  },
  {
   "cell_type": "code",
   "execution_count": 51,
   "id": "5a3c4edc",
   "metadata": {},
   "outputs": [],
   "source": [
    "from sklearn.svm import SVC\n",
    "svc= SVC(random_state=5)\n",
    "SVM = svc.fit(x_train,y_train)\n",
    "y_pred = svc.predict(x_test)\n",
    "y_pred_train = svc.predict(x_train)"
   ]
  },
  {
   "cell_type": "code",
   "execution_count": 52,
   "id": "7f45e6ad",
   "metadata": {},
   "outputs": [
    {
     "name": "stdout",
     "output_type": "stream",
     "text": [
      "For test data\n",
      "              precision    recall  f1-score   support\n",
      "\n",
      "           0       0.79      0.79      0.79        24\n",
      "           1       0.73      0.79      0.76        47\n",
      "           2       0.76      0.64      0.70        25\n",
      "\n",
      "    accuracy                           0.75        96\n",
      "   macro avg       0.76      0.74      0.75        96\n",
      "weighted avg       0.75      0.75      0.75        96\n",
      "\n",
      "For train data\n",
      "              precision    recall  f1-score   support\n",
      "\n",
      "           0       0.94      0.89      0.92       103\n",
      "           1       0.82      0.86      0.84       164\n",
      "           2       0.85      0.84      0.84       117\n",
      "\n",
      "    accuracy                           0.86       384\n",
      "   macro avg       0.87      0.86      0.87       384\n",
      "weighted avg       0.86      0.86      0.86       384\n",
      "\n"
     ]
    }
   ],
   "source": [
    "print('For test data')\n",
    "print(classification_report(y_test,y_pred))\n",
    "print('For train data')\n",
    "print(classification_report(y_train,y_pred_train))"
   ]
  },
  {
   "cell_type": "code",
   "execution_count": 55,
   "id": "2a047672",
   "metadata": {},
   "outputs": [
    {
     "data": {
      "text/plain": [
       "{'C': 30, 'gamma': 0.005, 'kernel': 'rbf'}"
      ]
     },
     "execution_count": 55,
     "metadata": {},
     "output_type": "execute_result"
    }
   ],
   "source": [
    "param_grid = {'C':[0.1,1,10,20,30],'gamma':[1,0.01,.1,.5,.005,.05,.75],'kernel':['rbf','poly','linear']}\n",
    "sv = SVC(random_state=77)\n",
    "grid = GridSearchCV(sv,param_grid,cv=10)\n",
    "grid.fit(x_train,y_train)\n",
    "grid.best_params_"
   ]
  },
  {
   "cell_type": "code",
   "execution_count": 59,
   "id": "aa8b562d",
   "metadata": {},
   "outputs": [],
   "source": [
    "svc=SVC(random_state=5,C=30,gamma=0.005,kernel='rbf')\n",
    "SVM = svc.fit(x_train,y_train)\n",
    "y_pred = svc.predict(x_test)\n",
    "y_pred_train = svc.predict(x_train)"
   ]
  },
  {
   "cell_type": "code",
   "execution_count": 60,
   "id": "787fd36d",
   "metadata": {},
   "outputs": [
    {
     "name": "stdout",
     "output_type": "stream",
     "text": [
      "For test data\n",
      "              precision    recall  f1-score   support\n",
      "\n",
      "           0       0.84      0.88      0.86        24\n",
      "           1       0.76      0.79      0.77        47\n",
      "           2       0.73      0.64      0.68        25\n",
      "\n",
      "    accuracy                           0.77        96\n",
      "   macro avg       0.77      0.77      0.77        96\n",
      "weighted avg       0.77      0.77      0.77        96\n",
      "\n",
      "For train data\n",
      "              precision    recall  f1-score   support\n",
      "\n",
      "           0       0.93      0.94      0.94       103\n",
      "           1       0.89      0.86      0.87       164\n",
      "           2       0.86      0.89      0.87       117\n",
      "\n",
      "    accuracy                           0.89       384\n",
      "   macro avg       0.89      0.90      0.89       384\n",
      "weighted avg       0.89      0.89      0.89       384\n",
      "\n"
     ]
    }
   ],
   "source": [
    "print('For test data')\n",
    "print(classification_report(y_test,y_pred))\n",
    "print('For train data')\n",
    "print(classification_report(y_train,y_pred_train))"
   ]
  },
  {
   "cell_type": "code",
   "execution_count": 67,
   "id": "ba648039",
   "metadata": {},
   "outputs": [],
   "source": [
    "from sklearn.naive_bayes import GaussianNB"
   ]
  },
  {
   "cell_type": "code",
   "execution_count": 69,
   "id": "c12aa348",
   "metadata": {},
   "outputs": [
    {
     "name": "stdout",
     "output_type": "stream",
     "text": [
      "For test data\n",
      "              precision    recall  f1-score   support\n",
      "\n",
      "           0       0.54      0.88      0.67        24\n",
      "           1       0.79      0.23      0.36        47\n",
      "           2       0.51      0.88      0.65        25\n",
      "\n",
      "    accuracy                           0.56        96\n",
      "   macro avg       0.61      0.66      0.56        96\n",
      "weighted avg       0.65      0.56      0.51        96\n",
      "\n",
      "For train data\n",
      "              precision    recall  f1-score   support\n",
      "\n",
      "           0       0.64      0.95      0.77       103\n",
      "           1       0.83      0.18      0.30       164\n",
      "           2       0.57      0.95      0.71       117\n",
      "\n",
      "    accuracy                           0.62       384\n",
      "   macro avg       0.68      0.69      0.59       384\n",
      "weighted avg       0.70      0.62      0.55       384\n",
      "\n"
     ]
    }
   ],
   "source": [
    "nb= GaussianNB()\n",
    "nb1= nb.fit(x_train,y_train)\n",
    "y_pred = nb.predict(x_test)\n",
    "y_pred_train = nb.predict(x_train)\n",
    "print('For test data')\n",
    "print(classification_report(y_test,y_pred))\n",
    "print('For train data')\n",
    "print(classification_report(y_train,y_pred_train))"
   ]
  },
  {
   "cell_type": "code",
   "execution_count": 72,
   "id": "d50410ed",
   "metadata": {},
   "outputs": [
    {
     "name": "stdout",
     "output_type": "stream",
     "text": [
      "For test data\n",
      "              precision    recall  f1-score   support\n",
      "\n",
      "           0       0.81      0.71      0.76        24\n",
      "           1       0.61      0.66      0.63        47\n",
      "           2       0.50      0.48      0.49        25\n",
      "\n",
      "    accuracy                           0.62        96\n",
      "   macro avg       0.64      0.62      0.63        96\n",
      "weighted avg       0.63      0.62      0.63        96\n",
      "\n",
      "for train data\n",
      "              precision    recall  f1-score   support\n",
      "\n",
      "           0       0.92      0.86      0.89       103\n",
      "           1       0.67      0.66      0.66       164\n",
      "           2       0.60      0.64      0.62       117\n",
      "\n",
      "    accuracy                           0.71       384\n",
      "   macro avg       0.73      0.72      0.72       384\n",
      "weighted avg       0.71      0.71      0.71       384\n",
      "\n"
     ]
    }
   ],
   "source": [
    "from sklearn.ensemble import AdaBoostClassifier\n",
    "abcd = AdaBoostClassifier(random_state =7)\n",
    "ABCD = abcd.fit(x_train,y_train)\n",
    "y_pred = abcd.predict(x_test)\n",
    "y_pred_train = abcd.predict(x_train)\n",
    "print('For test data')\n",
    "print(classification_report(y_test,y_pred))\n",
    "print('for train data')\n",
    "print(classification_report(y_train,y_pred_train))"
   ]
  },
  {
   "cell_type": "code",
   "execution_count": 75,
   "id": "e272631f",
   "metadata": {},
   "outputs": [
    {
     "name": "stdout",
     "output_type": "stream",
     "text": [
      "For test data\n",
      "              precision    recall  f1-score   support\n",
      "\n",
      "           0       0.81      0.88      0.84        24\n",
      "           1       0.71      0.72      0.72        47\n",
      "           2       0.64      0.56      0.60        25\n",
      "\n",
      "    accuracy                           0.72        96\n",
      "   macro avg       0.72      0.72      0.72        96\n",
      "weighted avg       0.71      0.72      0.72        96\n",
      "\n",
      "for train data\n",
      "              precision    recall  f1-score   support\n",
      "\n",
      "           0       1.00      1.00      1.00       103\n",
      "           1       1.00      1.00      1.00       164\n",
      "           2       1.00      1.00      1.00       117\n",
      "\n",
      "    accuracy                           1.00       384\n",
      "   macro avg       1.00      1.00      1.00       384\n",
      "weighted avg       1.00      1.00      1.00       384\n",
      "\n"
     ]
    }
   ],
   "source": [
    "from sklearn.ensemble import GradientBoostingClassifier\n",
    "GBC = GradientBoostingClassifier(random_state=7,n_estimators=50,max_depth=20,max_features=20)\n",
    "\n",
    "gbc=GBC.fit(x_train,y_train)\n",
    "y_pred = GBC.predict(x_test)\n",
    "y_pred_train = GBC.predict(x_train)\n",
    "print('For test data')\n",
    "print(classification_report(y_test,y_pred))\n",
    "print('for train data')\n",
    "print(classification_report(y_train,y_pred_train))\n"
   ]
  },
  {
   "cell_type": "code",
   "execution_count": 94,
   "id": "351bae43",
   "metadata": {},
   "outputs": [
    {
     "name": "stdout",
     "output_type": "stream",
     "text": [
      "For test data\n",
      "              precision    recall  f1-score   support\n",
      "\n",
      "           0       0.77      0.83      0.80        24\n",
      "           1       0.73      0.68      0.70        47\n",
      "           2       0.65      0.68      0.67        25\n",
      "\n",
      "    accuracy                           0.72        96\n",
      "   macro avg       0.72      0.73      0.72        96\n",
      "weighted avg       0.72      0.72      0.72        96\n",
      "\n",
      "for train data\n",
      "              precision    recall  f1-score   support\n",
      "\n",
      "           0       1.00      1.00      1.00       103\n",
      "           1       1.00      1.00      1.00       164\n",
      "           2       1.00      1.00      1.00       117\n",
      "\n",
      "    accuracy                           1.00       384\n",
      "   macro avg       1.00      1.00      1.00       384\n",
      "weighted avg       1.00      1.00      1.00       384\n",
      "\n"
     ]
    }
   ],
   "source": [
    "\n",
    "from xgboost import XGBClassifier\n",
    "XGB = XGBClassifier(n_estimators=50 ,max_depth=15 )\n",
    "xgb=XGB.fit(x_train,y_train)\n",
    "y_pred = XGB.predict(x_test)\n",
    "y_pred_train = XGB.predict(x_train)\n",
    "print('For test data')\n",
    "print(classification_report(y_test,y_pred))\n",
    "print('for train data')\n",
    "print(classification_report(y_train,y_pred_train))\n"
   ]
  },
  {
   "cell_type": "code",
   "execution_count": 98,
   "id": "d8f9e65b",
   "metadata": {},
   "outputs": [
    {
     "data": {
      "text/plain": [
       "{'max_depth': 20, 'n_estimators': 40}"
      ]
     },
     "execution_count": 98,
     "metadata": {},
     "output_type": "execute_result"
    }
   ],
   "source": [
    "param_grid = {'n_estimators':[10,20,30,40,50],'max_depth':[5,10,15,20,25,30,35]}\n",
    "xgb= XGBClassifier()\n",
    "grid = GridSearchCV(xgb,param_grid,cv=10)\n",
    "grid.fit(x_train,y_train)\n",
    "grid.best_params_"
   ]
  },
  {
   "cell_type": "code",
   "execution_count": 99,
   "id": "1b165254",
   "metadata": {},
   "outputs": [
    {
     "name": "stdout",
     "output_type": "stream",
     "text": [
      "For test data\n",
      "              precision    recall  f1-score   support\n",
      "\n",
      "           0       0.77      0.83      0.80        24\n",
      "           1       0.74      0.74      0.74        47\n",
      "           2       0.74      0.68      0.71        25\n",
      "\n",
      "    accuracy                           0.75        96\n",
      "   macro avg       0.75      0.75      0.75        96\n",
      "weighted avg       0.75      0.75      0.75        96\n",
      "\n",
      "for train data\n",
      "              precision    recall  f1-score   support\n",
      "\n",
      "           0       1.00      1.00      1.00       103\n",
      "           1       1.00      1.00      1.00       164\n",
      "           2       1.00      1.00      1.00       117\n",
      "\n",
      "    accuracy                           1.00       384\n",
      "   macro avg       1.00      1.00      1.00       384\n",
      "weighted avg       1.00      1.00      1.00       384\n",
      "\n"
     ]
    }
   ],
   "source": [
    "XGB = XGBClassifier(n_estimators=40 ,max_depth=20 )\n",
    "xgb=XGB.fit(x_train,y_train)\n",
    "y_pred = XGB.predict(x_test)\n",
    "y_pred_train = XGB.predict(x_train)\n",
    "print('For test data')\n",
    "print(classification_report(y_test,y_pred))\n",
    "print('for train data')\n",
    "print(classification_report(y_train,y_pred_train))\n"
   ]
  },
  {
   "cell_type": "code",
   "execution_count": null,
   "id": "9c5e8094",
   "metadata": {},
   "outputs": [],
   "source": []
  }
 ],
 "metadata": {
  "kernelspec": {
   "display_name": "Python 3 (ipykernel)",
   "language": "python",
   "name": "python3"
  },
  "language_info": {
   "codemirror_mode": {
    "name": "ipython",
    "version": 3
   },
   "file_extension": ".py",
   "mimetype": "text/x-python",
   "name": "python",
   "nbconvert_exporter": "python",
   "pygments_lexer": "ipython3",
   "version": "3.9.12"
  }
 },
 "nbformat": 4,
 "nbformat_minor": 5
}
